{
 "cells": [
  {
   "cell_type": "code",
   "execution_count": 14,
   "id": "bcdf7ee6",
   "metadata": {},
   "outputs": [
    {
     "name": "stdout",
     "output_type": "stream",
     "text": [
      "\n",
      "Selecione uma  opcao: \n",
      "\n",
      " 1 - Soma\n",
      " 2 - Subtracao\n",
      " 3 - Multiplicao\n",
      " 4 - Divisao\n",
      "\n",
      "Digite uma opcao: 4\n",
      "\n",
      "Digite o primeiro valor: 10\n",
      "\n",
      "Digite o segundo valor: 2\n",
      "\n",
      "\n",
      "10  /  2  =  5.0\n",
      "\n",
      "\n"
     ]
    }
   ],
   "source": [
    "# print(\"\\n  =========== Python Calculadora   ===========\")\n",
    "\n",
    "def adi(x,y):\n",
    "  return x + y\n",
    "\n",
    "\n",
    "def sub(x,y):\n",
    "   return x - y\n",
    "\n",
    "def mult(x,y):\n",
    "    return  x * y\n",
    "\n",
    "def div(x,y):\n",
    "    return x / y\n",
    "\n",
    "print(\"\\nSelecione uma  opcao: \\n\")\n",
    "print(\" 1 - Soma\")\n",
    "print(\" 2 - Subtracao\")\n",
    "print(\" 3 - Multiplicao\")\n",
    "print(\" 4 - Divisao\")\n",
    "\n",
    "escolha = input(\"\\nDigite uma opcao: \")\n",
    "\n",
    "num  = int(input(\"\\nDigite o primeiro valor: \"))\n",
    "num1 = int(input(\"\\nDigite o segundo valor: \"))\n",
    "\n",
    "\n",
    "if escolha == '1':\n",
    "   print(\"\\n\")\n",
    "   print(num, \" + \", num1, \" = \" , adi(num,num1))\n",
    "   print(\"\\n\")\n",
    "    \n",
    "elif escolha == '2':\n",
    "   print(\"\\n\")\n",
    "   print(num, \" - \",num1, \" = \", sub(num,num1))\n",
    "\n",
    "elif escolha == '3':\n",
    "   print(\"\\n\")\n",
    "   print(num, ' * ',num1, \" = \", mult(num,num1))\n",
    "   print(\"\\n\")\n",
    "\n",
    "elif escolha == '4':\n",
    "   print(\"\\n\")\n",
    "   print(num,' / ', num1, \" = \", div(num,num1))\n",
    "   print(\"\\n\")\n",
    "\n",
    "else:\n",
    "   print(\"\\nOpcao - Invalida !\") \n"
   ]
  },
  {
   "cell_type": "code",
   "execution_count": null,
   "id": "d7e18fac",
   "metadata": {},
   "outputs": [],
   "source": []
  }
 ],
 "metadata": {
  "kernelspec": {
   "display_name": "Python 3",
   "language": "python",
   "name": "python3"
  },
  "language_info": {
   "codemirror_mode": {
    "name": "ipython",
    "version": 3
   },
   "file_extension": ".py",
   "mimetype": "text/x-python",
   "name": "python",
   "nbconvert_exporter": "python",
   "pygments_lexer": "ipython3",
   "version": "3.8.8"
  }
 },
 "nbformat": 4,
 "nbformat_minor": 5
}
